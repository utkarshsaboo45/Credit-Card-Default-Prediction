{
 "cells": [
  {
   "cell_type": "code",
   "execution_count": null,
   "id": "5999d724-f79d-4f46-b7ce-360686b6e122",
   "metadata": {},
   "outputs": [],
   "source": [
    "# def read_data():\n",
    "#     # Read data from the csv\n",
    "#     pass\n",
    "\n",
    "# def clean_data():\n",
    "#     # Clean data\n",
    "#     pass\n",
    "\n",
    "# def create_features():\n",
    "#     # Feature Engineering\n",
    "#     pass\n",
    "\n",
    "# def split_data():\n",
    "#     # Split the data\n",
    "#     pass\n",
    "\n",
    "# def save_data():\n",
    "#     # Export data to csv file\n",
    "#     pass\n",
    "\n",
    "# def preprocess_data():\n",
    "#     # Call all the preprocess functions as required\n",
    "#     pass"
   ]
  },
  {
   "cell_type": "code",
   "execution_count": null,
   "id": "63704d95-0d28-462f-99d0-bc402bd4ae9c",
   "metadata": {},
   "outputs": [],
   "source": [
    "import numpy as np\n",
    "import pandas as pd\n",
    "import matplotlib.pyplot as plt\n",
    "import altair as alt\n",
    "from sklearn.model_selection import train_test_split\n",
    "from sklearn.preprocessing import OneHotEncoder, StandardScaler\n",
    "from sklearn.compose import ColumnTransformer, make_column_transformer\n",
    "from sklearn.tree import DecisionTreeClassifier\n",
    "from sklearn import datasets, ensemble\n",
    "from sklearn.ensemble import RandomForestClassifier\n",
    "from sklearn.model_selection import GridSearchCV, RandomizedSearchCV\n",
    "from xgboost import XGBClassifier\n",
    "from sklearn.dummy import DummyClassifier\n",
    "from sklearn.ensemble import RandomForestClassifier\n",
    "from sklearn.pipeline import make_pipeline\n",
    "from sklearn.model_selection import cross_validate\n",
    "from sklearn.metrics import confusion_matrix\n",
    "from sklearn.naive_bayes import GaussianNB\n",
    "from sklearn.metrics import classification_report\n",
    "from sklearn.svm import SVC\n",
    "from sklearn.linear_model import LogisticRegression\n",
    "from catboost import CatBoostClassifier\n",
    "from lightgbm.sklearn import LGBMClassifier\n",
    "from sklearn.metrics import confusion_matrix\n",
    "from sklearn.ensemble import StackingClassifier\n",
    "from sklearn.ensemble import VotingClassifier\n",
    "from sklearn.metrics import precision_score, recall_score, f1_score\n",
    "from sklearn.metrics import precision_recall_curve\n",
    "from sklearn.metrics import roc_curve"
   ]
  },
  {
   "cell_type": "markdown",
   "id": "feae7a33-ab24-45cc-921a-157571154fe7",
   "metadata": {},
   "source": [
    "### Reading the data"
   ]
  },
  {
   "cell_type": "code",
   "execution_count": null,
   "id": "1897abff-8840-41bf-8e29-1096048b77c9",
   "metadata": {},
   "outputs": [],
   "source": [
    "df = pd.read_csv(\"../data/raw/cc_default.csv\")"
   ]
  },
  {
   "cell_type": "markdown",
   "id": "57bd9ec6-6fef-4e7b-9d69-74574dd4450e",
   "metadata": {},
   "source": [
    "### Data Wrangling"
   ]
  },
  {
   "cell_type": "code",
   "execution_count": null,
   "id": "ec8a32e7-2fcc-43e7-a3c9-eee9c1836e84",
   "metadata": {},
   "outputs": [],
   "source": [
    "# Dropping unrelated columns\n",
    "\n",
    "df.drop(columns=[\"ID\"], inplace=True)"
   ]
  },
  {
   "cell_type": "code",
   "execution_count": null,
   "id": "06841083-79dc-43b3-862f-c808c1115fb8",
   "metadata": {},
   "outputs": [],
   "source": [
    "# Renaming columns\n",
    "\n",
    "df.rename(columns={\n",
    "    \"default payment next month\": \"is_default\", \n",
    "    \"PAY_0\":\"PAY_1\"\n",
    "}, inplace=True)"
   ]
  },
  {
   "cell_type": "code",
   "execution_count": null,
   "id": "682f6e80-88e1-4bcd-8031-a7255eb3d49e",
   "metadata": {
    "tags": []
   },
   "outputs": [],
   "source": [
    "df.head()"
   ]
  },
  {
   "cell_type": "markdown",
   "id": "4677a39b-b398-4440-82c5-84873ea9a62d",
   "metadata": {},
   "source": [
    "### Data Splitting"
   ]
  },
  {
   "cell_type": "code",
   "execution_count": null,
   "id": "728c889d-f1d4-45b2-86c8-b4b871bc4a52",
   "metadata": {},
   "outputs": [],
   "source": [
    "train_df, test_df = train_test_split(df, test_size = 0.2, random_state = 123)"
   ]
  },
  {
   "cell_type": "code",
   "execution_count": null,
   "id": "82778bbe-c05a-41fb-b53b-f07bd6335920",
   "metadata": {
    "tags": []
   },
   "outputs": [],
   "source": [
    "train_df.info()"
   ]
  },
  {
   "cell_type": "markdown",
   "id": "d581046d-f299-414f-aad0-399e6d07ae86",
   "metadata": {},
   "source": [
    "### Feature Engineering\n"
   ]
  },
  {
   "cell_type": "markdown",
   "id": "cf4c1705-eebd-4e98-8ca8-4199be7e6b6f",
   "metadata": {
    "tags": []
   },
   "source": [
    "#### Approach (TODO):\n",
    "\n",
    "- ~~Create new columns for percent of bill amount paid~~\n",
    "- Group the 5 & 6  categories of education into one \"unknown\"\n",
    "- Assumptions for Education and Marriage\n",
    "- Deal with class imbalance\n",
    "- ~~Create new column wrt to credit utilization~~\n",
    "- Repayment status\n",
    "\n"
   ]
  },
  {
   "cell_type": "code",
   "execution_count": null,
   "id": "b2a0f4fa-9c99-49fb-9409-695d5b66a412",
   "metadata": {
    "tags": []
   },
   "outputs": [],
   "source": [
    "def preprocess(df):\n",
    "    \n",
    "    # Percent Bill Paid\n",
    "    for i in range(1, 6):\n",
    "        df[f\"percent_paid{i}\"] = df[f\"PAY_AMT{i}\"] / df[f\"BILL_AMT{i + 1}\"] * 100\n",
    "        df[f\"percent_paid{i}\"][df[f\"percent_paid{i}\"] < 0] = 100 - (df[f\"percent_paid{i}\"])\n",
    "        df[f\"percent_paid{i}\"][df[f\"BILL_AMT{i + 1}\"] == 0] = 100 + df[f\"PAY_AMT{i}\"] * 0.01\n",
    "\n",
    "\n",
    "    # Precent Credit Utilized\n",
    "    for i in range(1, 7):\n",
    "        df[f\"percent_credit_utilised{i}\"] = df[f\"BILL_AMT{i}\"] / df[f\"LIMIT_BAL\"] * 100\n",
    "\n",
    "\n",
    "    # Standard Deviations\n",
    "    bill_amt_col_names = []\n",
    "    pay_amt_col_names = []\n",
    "\n",
    "    for i in range(1, 7):\n",
    "        bill_amt_col_names.append(f\"BILL_AMT{i}\")\n",
    "        pay_amt_col_names.append(f\"PAY_AMT{i}\")\n",
    "\n",
    "    df[\"std_dev_bill\"]= df[bill_amt_col_names].std(axis=1)\n",
    "    df[\"std_dev_pay\"]= df[pay_amt_col_names].std(axis=1)\n",
    "\n",
    "\n",
    "    # Change Education categories 0, 5 and 6 to 4\n",
    "    df[\"EDUCATION\"].replace({5: 4, 6: 4, 0: 4}, inplace = True)\n",
    "\n",
    "\n",
    "    # Change PAY_X values from -2 to 0\n",
    "    for i in range(1, 7):\n",
    "        df[f\"PAY_{i}\"].replace({-2: 0}, inplace=True)\n",
    "    \n",
    "    return df"
   ]
  },
  {
   "cell_type": "code",
   "execution_count": null,
   "id": "5a23539c-467a-42a6-8cdb-23cb96335686",
   "metadata": {
    "tags": []
   },
   "outputs": [],
   "source": [
    "train_df"
   ]
  },
  {
   "cell_type": "code",
   "execution_count": null,
   "id": "cdb40071-c143-4f62-b51c-e37aaabb7489",
   "metadata": {
    "tags": []
   },
   "outputs": [],
   "source": [
    "train_df = preprocess(train_df)"
   ]
  },
  {
   "cell_type": "code",
   "execution_count": null,
   "id": "ec2616d6-71ea-4226-b359-431f0e9781d8",
   "metadata": {
    "tags": []
   },
   "outputs": [],
   "source": [
    "train_df"
   ]
  },
  {
   "cell_type": "code",
   "execution_count": null,
   "id": "a7d8db2f-bae7-4b44-b1be-dfb2acd45c76",
   "metadata": {
    "tags": []
   },
   "outputs": [],
   "source": [
    "test_df = preprocess(test_df)"
   ]
  },
  {
   "cell_type": "markdown",
   "id": "4c7aa305-cebe-4c61-8e3a-94ed19ec6bb5",
   "metadata": {},
   "source": [
    "### Feature Types"
   ]
  },
  {
   "cell_type": "code",
   "execution_count": null,
   "id": "886acdce-f643-4d0f-965b-41836a1b7947",
   "metadata": {},
   "outputs": [],
   "source": [
    "X_train, y_train = train_df.drop(columns=[\"is_default\"]), train_df[\"is_default\"]\n",
    "X_test, y_test = test_df.drop(columns=[\"is_default\"]), test_df[\"is_default\"]"
   ]
  },
  {
   "cell_type": "code",
   "execution_count": null,
   "id": "dda000d9-2012-4a02-ab7d-1e10b0db129c",
   "metadata": {
    "tags": []
   },
   "outputs": [],
   "source": [
    "X_train.info()"
   ]
  },
  {
   "cell_type": "code",
   "execution_count": null,
   "id": "81bc23d9-6fe6-469e-88fb-cca46ca35b0a",
   "metadata": {},
   "outputs": [],
   "source": [
    "categorical_features = [\n",
    "    \"SEX\",\n",
    "    \"EDUCATION\",\n",
    "    \"MARRIAGE\"\n",
    "]\n",
    "\n",
    "pass_through_features = [\n",
    "    \"PAY_1\",\n",
    "    \"PAY_2\",\n",
    "    \"PAY_3\",\n",
    "    \"PAY_4\",\n",
    "    \"PAY_5\",\n",
    "    \"PAY_6\"\n",
    "]\n",
    "\n",
    "numerical_features = list(set(X_train.columns) -\n",
    "                          set(categorical_features) - \n",
    "                          set(pass_through_features))\n"
   ]
  },
  {
   "cell_type": "code",
   "execution_count": null,
   "id": "e6b8859a-cc1b-4a97-8b8d-b436baeaff39",
   "metadata": {},
   "outputs": [],
   "source": [
    "assert len(numerical_features) + len(categorical_features) + len(pass_through_features) == len(X_train.columns)"
   ]
  },
  {
   "cell_type": "markdown",
   "id": "2ab30c44-7828-4f3a-af79-e4e5ff039581",
   "metadata": {},
   "source": [
    "### Model"
   ]
  },
  {
   "cell_type": "code",
   "execution_count": null,
   "id": "6ee7dbce-15d4-4ffb-813e-a36af05c5dab",
   "metadata": {},
   "outputs": [],
   "source": [
    "scalar = StandardScaler()\n",
    "ohe = OneHotEncoder(handle_unknown = 'ignore', sparse = False)\n"
   ]
  },
  {
   "cell_type": "code",
   "execution_count": null,
   "id": "23655d96-bf80-4e36-b665-b5749b0b4f87",
   "metadata": {},
   "outputs": [],
   "source": [
    "preprocessor = make_column_transformer(\n",
    "    (scalar, numerical_features),\n",
    "    (ohe, categorical_features)\n",
    ")"
   ]
  },
  {
   "cell_type": "code",
   "execution_count": null,
   "id": "78b98f3b-8617-4050-9f39-7beaf41926b7",
   "metadata": {},
   "outputs": [],
   "source": [
    "preprocessor.fit(X_train);"
   ]
  },
  {
   "cell_type": "code",
   "execution_count": null,
   "id": "4275eb06-6416-424a-acde-5fe0546ae0d6",
   "metadata": {},
   "outputs": [],
   "source": [
    "new_columns = numerical_features + preprocessor.named_transformers_[\n",
    "    \"onehotencoder\"\n",
    "].get_feature_names_out().tolist()           "
   ]
  },
  {
   "cell_type": "code",
   "execution_count": null,
   "id": "bdc78078-a30e-4875-b040-fd17080a0ed9",
   "metadata": {},
   "outputs": [],
   "source": [
    "# Credits to Varada K.\n",
    "\n",
    "def mean_std_cross_val_scores(model, X_train, y_train, **kwargs):\n",
    "    \"\"\"\n",
    "    Returns mean and std of cross validation\n",
    "\n",
    "    Parameters\n",
    "    ----------\n",
    "    model :\n",
    "        scikit-learn model\n",
    "    X_train : numpy array or pandas DataFrame\n",
    "        X in the training data\n",
    "    y_train :\n",
    "        y in the training data\n",
    "\n",
    "    Returns\n",
    "    ----------\n",
    "        pandas Series with mean scores from cross_validation\n",
    "    \"\"\"\n",
    "\n",
    "    scores = cross_validate(model, X_train, y_train, **kwargs)\n",
    "\n",
    "    mean_scores = pd.DataFrame(scores).mean()\n",
    "    std_scores = pd.DataFrame(scores).std()\n",
    "    out_col = []\n",
    "\n",
    "    for i in range(len(mean_scores)):\n",
    "        out_col.append((f\"%0.3f (+/- %0.3f)\" % (mean_scores[i], std_scores[i])))\n",
    "\n",
    "    return pd.Series(data=out_col, index=mean_scores.index)"
   ]
  },
  {
   "cell_type": "code",
   "execution_count": null,
   "id": "c72678ff-8407-4adb-99c1-6f45df573b6e",
   "metadata": {},
   "outputs": [],
   "source": [
    "scoring_metrics = [\n",
    "    \"roc_auc\",\n",
    "    \"f1\",\n",
    "    \"recall\",\n",
    "    \"precision\"\n",
    "]"
   ]
  },
  {
   "cell_type": "code",
   "execution_count": null,
   "id": "d4c94999-d3ff-4e8b-abca-279e2e6abb4b",
   "metadata": {},
   "outputs": [],
   "source": [
    "dummy = DummyClassifier()\n",
    "pipe_dummy = make_pipeline(preprocessor, dummy)"
   ]
  },
  {
   "cell_type": "code",
   "execution_count": null,
   "id": "dbcff7fe-384f-4f09-bd2e-4a39bb207c49",
   "metadata": {},
   "outputs": [],
   "source": [
    "results = {}"
   ]
  },
  {
   "cell_type": "code",
   "execution_count": null,
   "id": "e31dec4b-12ce-43e2-b6f4-e8e75a6b9beb",
   "metadata": {
    "tags": []
   },
   "outputs": [],
   "source": [
    "results[\"dummy\"] = mean_std_cross_val_scores(pipe_dummy,\n",
    "                                             X_train, \n",
    "                                             y_train,\n",
    "                                             cv=10,\n",
    "                                             return_train_score=True,\n",
    "                                             scoring=scoring_metrics)"
   ]
  },
  {
   "cell_type": "code",
   "execution_count": null,
   "id": "4789ec62-c665-449d-ad4c-eafa0be06897",
   "metadata": {},
   "outputs": [],
   "source": [
    "pd.DataFrame(results)"
   ]
  },
  {
   "cell_type": "markdown",
   "id": "05bab465-dafd-42bf-9c2c-c877c23921bf",
   "metadata": {},
   "source": [
    "__Models to test__ \n",
    "1) Logistic \n",
    "2) SVC\n",
    "4) Decision Tree\n",
    "5) Random Forest\n",
    "6) XGBoost\n",
    "7) LGBM \n",
    "8) CatBoost\n",
    "9) Naive Bayes"
   ]
  },
  {
   "cell_type": "code",
   "execution_count": null,
   "id": "62510cb5-bcf3-41d5-b9dd-0988065a571e",
   "metadata": {},
   "outputs": [],
   "source": [
    "# Base models with default hyper-parameters\n",
    "\n",
    "# models = {\n",
    "#     \"Decision Tree\": make_pipeline(preprocessor, DecisionTreeClassifier()),\n",
    "#     \"SVC\": make_pipeline(preprocessor, SVC()),\n",
    "#     \"Logistic Regression\": make_pipeline(preprocessor, LogisticRegression()),\n",
    "#     \"Random Forest\": make_pipeline(preprocessor, RandomForestClassifier()),\n",
    "#     \"XGBoost\": make_pipeline(preprocessor, XGBClassifier(verbosity=0)),\n",
    "#     \"LGBM\": make_pipeline(preprocessor, LGBMClassifier()),\n",
    "#     \"CatBoost\": make_pipeline(preprocessor, CatBoostClassifier(verbose=0)),\n",
    "#     \"Naive Bayes\": make_pipeline(preprocessor, GaussianNB())\n",
    "# }"
   ]
  },
  {
   "cell_type": "code",
   "execution_count": null,
   "id": "3f28a1ae-c4b9-4af6-9b75-d3f461d6ce3a",
   "metadata": {},
   "outputs": [],
   "source": [
    "# for model_name, model in models.items():\n",
    "    \n",
    "#     results[model_name] = mean_std_cross_val_scores(\n",
    "#         model, \n",
    "#         X_train,\n",
    "#         y_train,\n",
    "#         cv=10,\n",
    "#         return_train_score=True,\n",
    "#         scoring=scoring_metrics\n",
    "#     )\n",
    "    \n",
    "#     print(model_name, \"done!\")\n",
    "    "
   ]
  },
  {
   "cell_type": "code",
   "execution_count": null,
   "id": "5fefc21f-67ad-4261-93a5-d17549b75ea0",
   "metadata": {},
   "outputs": [],
   "source": [
    "# pd.DataFrame(results)"
   ]
  },
  {
   "cell_type": "markdown",
   "id": "5c1a7e6d-e8f7-49b4-949d-54c0b19e670b",
   "metadata": {},
   "source": [
    "__Dealing with class imbalance__"
   ]
  },
  {
   "cell_type": "code",
   "execution_count": null,
   "id": "8861f81f-6ead-4116-a6b4-6b771a4894d1",
   "metadata": {},
   "outputs": [],
   "source": [
    "# Logistic Regresion\n",
    "param_lr = {\n",
    "    \"logisticregression__class_weight\": ['balanced', None],\n",
    "    \"logisticregression__C\": 10.0 ** np.arange(-2, 4)\n",
    "}\n",
    "\n",
    "pipe_lr = make_pipeline(preprocessor, LogisticRegression(max_iter=10000))\n",
    "\n",
    "random_search = RandomizedSearchCV(\n",
    "    pipe_lr,\n",
    "    param_lr,\n",
    "    n_jobs=-1,\n",
    "    return_train_score=True,\n",
    "    scoring=scoring_metrics,\n",
    "    refit=\"recall\"\n",
    ")"
   ]
  },
  {
   "cell_type": "code",
   "execution_count": null,
   "id": "6107110d-66c0-4860-93b3-07b4decbda98",
   "metadata": {},
   "outputs": [],
   "source": [
    "random_search.fit(X_train, y_train)"
   ]
  },
  {
   "cell_type": "code",
   "execution_count": null,
   "id": "17ef9d10-57ae-4281-86f0-0158d8a69b58",
   "metadata": {},
   "outputs": [],
   "source": [
    "pd.DataFrame(random_search.cv_results_)[[\n",
    "    \"mean_fit_time\",\n",
    "    \"param_logisticregression__class_weight\",\n",
    "    \"param_logisticregression__C\",\n",
    "    \"mean_train_recall\",\n",
    "    \"mean_test_recall\",\n",
    "    \"mean_train_precision\",\n",
    "    \"mean_test_precision\",\n",
    "    \"mean_train_f1\",\n",
    "    \"mean_test_f1\"\n",
    "]].sort_values(\"mean_test_recall\", ascending=False).set_index(\"mean_test_recall\").T"
   ]
  },
  {
   "cell_type": "code",
   "execution_count": null,
   "id": "a027a29f-1607-484e-911e-374b077e400c",
   "metadata": {},
   "outputs": [],
   "source": [
    "random_search.best_params_"
   ]
  },
  {
   "cell_type": "code",
   "execution_count": null,
   "id": "406ca7b9-25da-4223-b53e-4ac247cceabc",
   "metadata": {},
   "outputs": [],
   "source": [
    "pipe_lr_balanced = make_pipeline(\n",
    "    preprocessor, \n",
    "    LogisticRegression(\n",
    "        class_weight=random_search.best_params_[\"logisticregression__class_weight\"],\n",
    "        C=random_search.best_params_[\"logisticregression__C\"],\n",
    "        max_iter=10000\n",
    "))"
   ]
  },
  {
   "cell_type": "code",
   "execution_count": null,
   "id": "425eea4e-5c45-44bd-8129-1fc737f5fc5b",
   "metadata": {},
   "outputs": [],
   "source": [
    "pipe_lr_balanced.fit(X_train, y_train)"
   ]
  },
  {
   "cell_type": "code",
   "execution_count": null,
   "id": "eb5beaf0-7698-4f23-a105-c31e916ad587",
   "metadata": {},
   "outputs": [],
   "source": [
    "importances = pd.DataFrame(\n",
    "    pipe_lr_balanced.named_steps[\"logisticregression\"].coef_,\n",
    "    columns=new_columns\n",
    ").T\n",
    "\n",
    "importances[\"abs_coef\"] = np.abs(importances[0])\n",
    "\n",
    "importances.sort_values(by = \"abs_coef\", ascending=False)"
   ]
  },
  {
   "cell_type": "code",
   "execution_count": null,
   "id": "0247ff39-49dc-4b80-8a6c-83bc49d59ad3",
   "metadata": {},
   "outputs": [],
   "source": [
    "pipe_nb = make_pipeline(preprocessor, GaussianNB())\n",
    "\n",
    "pipe_nb.fit(X_train, y_train)"
   ]
  },
  {
   "cell_type": "code",
   "execution_count": null,
   "id": "0f34004a-0d04-40a2-944a-3115217998e5",
   "metadata": {},
   "outputs": [],
   "source": [
    "#Tree Based Model\n",
    "\n",
    "pipe_catboost = make_pipeline(\n",
    "    preprocessor,\n",
    "    CatBoostClassifier(\n",
    "        verbose=0,\n",
    "        random_state = 123,\n",
    "        auto_class_weights=\"Balanced\"\n",
    "    )\n",
    ")\n",
    "\n",
    "pipe_lgbm = make_pipeline(\n",
    "    preprocessor,\n",
    "    LGBMClassifier(random_state=123, class_weight=\"balanced\")\n",
    ")"
   ]
  },
  {
   "cell_type": "code",
   "execution_count": null,
   "id": "34bbf388-4d07-4141-87cc-4d93a48b2d8b",
   "metadata": {},
   "outputs": [],
   "source": [
    "models_bal= {\n",
    "    \"Logistic\": pipe_lr_balanced,\n",
    "    \"Catboost\": pipe_catboost,\n",
    "    \"LGBM\": pipe_lgbm,\n",
    "    \"Naive Bayes\": pipe_nb\n",
    "}"
   ]
  },
  {
   "cell_type": "code",
   "execution_count": null,
   "id": "3d0a9d67-2e95-4b66-a3e0-acf061b668e4",
   "metadata": {},
   "outputs": [],
   "source": [
    "for name, value in models_bal.items():\n",
    "    results[name] = mean_std_cross_val_scores(\n",
    "        value,\n",
    "        X_train,\n",
    "        y_train,\n",
    "        cv=10,\n",
    "        return_train_score=True,\n",
    "        scoring=scoring_metrics\n",
    "    )\n",
    "    \n",
    "    print(name, \"done!\")"
   ]
  },
  {
   "cell_type": "code",
   "execution_count": null,
   "id": "e3e25c85-540a-4d81-8597-8e99ff4539bb",
   "metadata": {},
   "outputs": [],
   "source": [
    "pd.DataFrame(results).T"
   ]
  },
  {
   "cell_type": "code",
   "execution_count": null,
   "id": "7f682c50-3953-4994-a297-1c64d4fc976e",
   "metadata": {},
   "outputs": [],
   "source": [
    "# Stacking Classifier\n",
    "\n",
    "stacking_model = StackingClassifier(\n",
    "    estimators=list(models_bal.items()),\n",
    "    final_estimator=LogisticRegression()\n",
    ")\n",
    "\n",
    "results[\"stacking\"] = mean_std_cross_val_scores(\n",
    "    stacking_model,\n",
    "    X_train,\n",
    "    y_train,\n",
    "    cv=10,\n",
    "    return_train_score=True,\n",
    "    scoring=scoring_metrics\n",
    ")"
   ]
  },
  {
   "cell_type": "code",
   "execution_count": null,
   "id": "86b33785-6c05-4e58-9339-254b3adb2d97",
   "metadata": {},
   "outputs": [],
   "source": []
  },
  {
   "cell_type": "code",
   "execution_count": null,
   "id": "375c3018-92a6-45c4-b85d-fb9d5c5d4f23",
   "metadata": {},
   "outputs": [],
   "source": [
    "# Voting Classifier\n",
    "\n",
    "pipe_averaging = VotingClassifier(\n",
    "    list(models_bal.items()), voting=\"soft\"\n",
    ")\n",
    "\n",
    "results[\"pipe_averaging\"] = mean_std_cross_val_scores(\n",
    "    pipe_averaging,\n",
    "    X_train,\n",
    "    y_train,\n",
    "    cv=10,\n",
    "    return_train_score=True,\n",
    "    scoring=scoring_metrics\n",
    ")"
   ]
  },
  {
   "cell_type": "code",
   "execution_count": null,
   "id": "9ced998a-c119-41a4-a1a2-c87a38bc3c99",
   "metadata": {},
   "outputs": [],
   "source": [
    "pd.DataFrame(results).T"
   ]
  },
  {
   "cell_type": "code",
   "execution_count": null,
   "id": "4789a881-e899-4d38-bce9-860b4fa6a7a8",
   "metadata": {},
   "outputs": [],
   "source": []
  },
  {
   "cell_type": "code",
   "execution_count": null,
   "id": "7df1bb0a-5198-4d94-af03-60c02e2d867e",
   "metadata": {},
   "outputs": [],
   "source": []
  },
  {
   "cell_type": "code",
   "execution_count": null,
   "id": "113d0e45-bcbf-4e76-b5cf-26329138e8a8",
   "metadata": {},
   "outputs": [],
   "source": [
    "# Credits to Varada K.\n",
    "\n",
    "def plot_roc_curve(model, X, y):\n",
    "    fpr, tpr, thresholds = roc_curve(y_train, model.predict_proba(X_train)[:, 1])\n",
    "    plt.plot(fpr, tpr, label=\"ROC Curve\")\n",
    "    plt.xlabel(\"FPR\")\n",
    "    plt.ylabel(\"TPR (recall)\")\n",
    "\n",
    "    default_threshold = np.argmin(np.abs(thresholds - 0.5))\n",
    "\n",
    "    plt.plot(\n",
    "        fpr[default_threshold],\n",
    "        tpr[default_threshold],\n",
    "        \"or\",\n",
    "        markersize=10,\n",
    "        label=\"threshold 0.5\",\n",
    "    )\n",
    "    plt.legend(loc=\"best\");"
   ]
  },
  {
   "cell_type": "code",
   "execution_count": null,
   "id": "00abf5ab-2ebd-4ed9-9a7c-0c88e927eaef",
   "metadata": {},
   "outputs": [],
   "source": [
    "# Credits to Varada K.\n",
    "\n",
    "def plot_PR_curve(\n",
    "    precision,\n",
    "    recall,\n",
    "    close_default,\n",
    "    label=\"PR curve\",\n",
    "    marker_colour=\"r\",\n",
    "    marker_label=\"Default threshold\",\n",
    "):\n",
    "    plt.plot(precision, recall, label=label)\n",
    "    plt.xlabel(\"Precision\")\n",
    "    plt.ylabel(\"Recall\")\n",
    "    plt.plot(\n",
    "        precision[close_default],\n",
    "        recall[close_default],\n",
    "        \"o\",\n",
    "        markersize=12,\n",
    "        label=marker_label,\n",
    "        c=marker_colour,\n",
    "    )\n",
    "    plt.legend(loc=\"best\");"
   ]
  },
  {
   "cell_type": "code",
   "execution_count": null,
   "id": "9321c418-089f-4dba-9767-37c04665f490",
   "metadata": {},
   "outputs": [],
   "source": []
  },
  {
   "cell_type": "code",
   "execution_count": null,
   "id": "201238fb-fe80-4bb6-ac1b-94f2b4026f07",
   "metadata": {},
   "outputs": [],
   "source": [
    "pipe_averaging.fit(X_train, y_train)"
   ]
  },
  {
   "cell_type": "code",
   "execution_count": null,
   "id": "5122b57f-ec5f-4d11-8095-ce87f0365ffc",
   "metadata": {},
   "outputs": [],
   "source": [
    "plot_roc_curve(pipe_averaging, X_train, y_train)"
   ]
  },
  {
   "cell_type": "code",
   "execution_count": null,
   "id": "ed07f59c-0553-416e-9547-c5c6da1499b4",
   "metadata": {},
   "outputs": [],
   "source": [
    "precision_avg, recall_avg, thresholds_avg = precision_recall_curve(\n",
    "    y_train, pipe_averaging.predict_proba(X_train)[:, 1]\n",
    ")\n",
    "\n",
    "close_default_avg = np.argmin(np.abs(thresholds_avg - 0.5))\n",
    "\n",
    "plot_PR_curve(precision_avg, recall_avg, close_default_avg)"
   ]
  },
  {
   "cell_type": "code",
   "execution_count": null,
   "id": "8bfd61e9-bb30-41e0-b125-97e7a6025bf2",
   "metadata": {},
   "outputs": [],
   "source": []
  },
  {
   "cell_type": "code",
   "execution_count": null,
   "id": "c1c1eee6-5ff2-48cf-8f6b-a4223808daf2",
   "metadata": {},
   "outputs": [],
   "source": [
    "pipe_lr_balanced.fit(X_train, y_train)"
   ]
  },
  {
   "cell_type": "code",
   "execution_count": null,
   "id": "b5f6fdb8-81a5-4fc4-a78e-d38e8e8f8543",
   "metadata": {},
   "outputs": [],
   "source": [
    "plot_roc_curve(pipe_lr_balanced, X_train, y_train)"
   ]
  },
  {
   "cell_type": "code",
   "execution_count": null,
   "id": "dc53d211-6647-4c09-9506-a5ed9c773ae9",
   "metadata": {},
   "outputs": [],
   "source": [
    "precision_lr, recall_lr, thresholds_lr = precision_recall_curve(\n",
    "    y_train, pipe_lr_balanced.predict_proba(X_train)[:, 1]\n",
    ")\n",
    "close_default_lr = np.argmin(np.abs(thresholds_lr - 0.5))\n",
    "\n",
    "plot_PR_curve(precision_lr, recall_lr, close_default_lr)"
   ]
  },
  {
   "cell_type": "code",
   "execution_count": null,
   "id": "8f284439-7508-46f5-84f9-6fd8b81748ef",
   "metadata": {},
   "outputs": [],
   "source": []
  },
  {
   "cell_type": "code",
   "execution_count": null,
   "id": "07224d99-2978-4c13-8ab5-5723c408d25c",
   "metadata": {},
   "outputs": [],
   "source": [
    "def get_scores(model, X, y, threshold):\n",
    "    y_pred = model.predict_proba(X)[:, 1] > threshold\n",
    "    precision = precision_score(y, y_pred)\n",
    "    recall = recall_score(y, y_pred)\n",
    "    f1 = f1_score(y, y_pred)\n",
    "    \n",
    "    return {\n",
    "        \"Precision\": precision,\n",
    "        \"Recall\": recall,\n",
    "        \"f1\": f1\n",
    "    }"
   ]
  },
  {
   "cell_type": "markdown",
   "id": "758ac038-90fa-4afb-b80e-b174678f458c",
   "metadata": {},
   "source": [
    "__Best threshold after hit and trial: 0.63__"
   ]
  },
  {
   "cell_type": "code",
   "execution_count": null,
   "id": "d97337bf-e215-4cf9-b884-f5393112e5d2",
   "metadata": {},
   "outputs": [],
   "source": [
    "get_scores(pipe_averaging, X_train, y_train, 0.63)"
   ]
  },
  {
   "cell_type": "code",
   "execution_count": null,
   "id": "534e8f49-5378-42ab-a8b9-10d235e21dbf",
   "metadata": {},
   "outputs": [],
   "source": [
    "X_test"
   ]
  },
  {
   "cell_type": "code",
   "execution_count": null,
   "id": "5a1a53e7-a867-49e6-8729-a0385b358166",
   "metadata": {},
   "outputs": [],
   "source": [
    "get_scores(pipe_averaging, X_test, y_test, 0.63)"
   ]
  },
  {
   "cell_type": "code",
   "execution_count": null,
   "id": "00c4007a-724f-477d-9cd1-db5df1b8ad12",
   "metadata": {},
   "outputs": [],
   "source": []
  }
 ],
 "metadata": {
  "kernelspec": {
   "display_name": "Python [conda env:cc_deafult]",
   "language": "python",
   "name": "conda-env-cc_deafult-py"
  },
  "language_info": {
   "codemirror_mode": {
    "name": "ipython",
    "version": 3
   },
   "file_extension": ".py",
   "mimetype": "text/x-python",
   "name": "python",
   "nbconvert_exporter": "python",
   "pygments_lexer": "ipython3",
   "version": "3.8.12"
  }
 },
 "nbformat": 4,
 "nbformat_minor": 5
}
